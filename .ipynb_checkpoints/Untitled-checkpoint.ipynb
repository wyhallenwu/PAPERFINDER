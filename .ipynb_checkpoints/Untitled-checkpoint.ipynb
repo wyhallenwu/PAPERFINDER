{
 "cells": [
  {
   "cell_type": "code",
   "execution_count": 3,
   "id": "387c020d-314e-472d-9f8a-a5d8c4ef31b1",
   "metadata": {},
   "outputs": [
    {
     "name": "stdout",
     "output_type": "stream",
     "text": [
      "['Facility Id' 'FRS Id' 'Facility Name' 'City' 'State' 'Zip Code'\n",
      " 'Address' 'County' 'Latitude' 'Longitude' 'Primary NAICS Code'\n",
      " 'Industry Type (subparts)' 'Industry Type (sectors)'\n",
      " 'Total reported direct emissions' 'CO2 emissions (non-biogenic) '\n",
      " 'Methane (CH4) emissions ' 'Nitrous Oxide (N2O) emissions '\n",
      " 'HFC emissions' 'PFC emissions' 'SF6 emissions ' 'NF3 emissions'\n",
      " 'Other Fully Fluorinated GHG emissions' 'HFE emissions'\n",
      " 'Very Short-lived Compounds emissions' 'Other GHGs (metric tons CO2e)'\n",
      " 'Biogenic CO2 emissions (metric tons)' 'Stationary Combustion'\n",
      " 'Electricity Generation' 'Adipic Acid Production' 'Aluminum Production'\n",
      " 'Ammonia Manufacturing' 'Cement Production' 'Electronics Manufacture'\n",
      " 'Ferroalloy Production' 'Fluorinated GHG Production' 'Glass Production'\n",
      " 'HCFC–22 Production from HFC–23 Destruction' 'Hydrogen Production'\n",
      " 'Iron and Steel Production' 'Lead Production' 'Lime Production'\n",
      " 'Magnesium Production' 'Miscellaneous Use of Carbonates'\n",
      " 'Nitric Acid Production'\n",
      " 'Petroleum and Natural Gas Systems – Offshore Production'\n",
      " 'Petroleum and Natural Gas Systems – Processing'\n",
      " 'Petroleum and Natural Gas Systems – Transmission/Compression'\n",
      " 'Petroleum and Natural Gas Systems – Underground Storage'\n",
      " 'Petroleum and Natural Gas Systems – LNG Storage'\n",
      " 'Petroleum and Natural Gas Systems – LNG Import/Export'\n",
      " 'Petrochemical Production' 'Petroleum Refining'\n",
      " 'Phosphoric Acid Production' 'Pulp and Paper Manufacturing'\n",
      " 'Silicon Carbide Production' 'Soda Ash Manufacturing'\n",
      " 'Titanium Dioxide Production' 'Underground Coal Mines' 'Zinc Production'\n",
      " 'Municipal Landfills' 'Industrial Wastewater Treatment'\n",
      " 'Manufacture of Electric Transmission and Distribution Equipment'\n",
      " 'Industrial Waste Landfills'\n",
      " 'Is some CO2 collected on-site and used to manufacture other products and therefore not emitted from the affected manufacturing process unit(s)? (as reported under Subpart G or S)'\n",
      " 'Is some CO2 reported as emissions from the affected manufacturing process unit(s) under Subpart AA, G or P collected and transferred off-site or injected (as reported under Subpart PP)?'\n",
      " 'Does the facility employ continuous emissions monitoring? ']\n"
     ]
    },
    {
     "data": {
      "image/png": "[encoded data removed]",
      "text/plain": [
       "<Figure size 432x288 with 1 Axes>"
      ]
     },
     "metadata": {
      "needs_background": "light"
     },
     "output_type": "display_data"
    }
   ],
   "source": [
    "import numpy as np\n",
    "import pandas as pd\n",
    "import matplotlib.pyplot as plt\n",
    "# read dataset\n",
    "data = pd.read_excel(\"dataset/ghgp_data_2020.xlsx\", sheet_name=\"Direct Emitters\", header=0, skiprows=lambda x: x in range(0,3))\n",
    "# print(data.dtypes)\n",
    "print(data.columns.values)\n",
    "# print(data['Address'].values)\n",
    "\n",
    "plt.scatter(x=data['Latitude'], y=data['Zip Code'], c='b')\n",
    "plt.show()\n"
   ]
  },
  {
   "cell_type": "code",
   "execution_count": null,
   "id": "3defe46d-5a13-4be7-bdbe-dc957044baff",
   "metadata": {},
   "outputs": [],
   "source": []
  }
 ],
 "metadata": {
  "kernelspec": {
   "display_name": "Python 3 (ipykernel)",
   "language": "python",
   "name": "python3"
  },
  "language_info": {
   "codemirror_mode": {
    "name": "ipython",
    "version": 3
   },
   "file_extension": ".py",
   "mimetype": "text/x-python",
   "name": "python",
   "nbconvert_exporter": "python",
   "pygments_lexer": "ipython3",
   "version": "3.7.6"
  }
 },
 "nbformat": 4,
 "nbformat_minor": 5
}
