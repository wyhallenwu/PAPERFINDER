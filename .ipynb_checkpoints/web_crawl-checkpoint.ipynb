{
 "cells": [
  {
   "cell_type": "code",
   "execution_count": 1,
   "metadata": {},
   "outputs": [],
   "source": [
    "# needed packages \n",
    "import pandas as pd\n",
    "import numpy as np\n",
    "from selenium import webdriver\n",
    "from selenium.webdriver.common.keys import Keys"
   ]
  },
  {
   "cell_type": "code",
   "execution_count": 2,
   "metadata": {},
   "outputs": [
    {
     "name": "stderr",
     "output_type": "stream",
     "text": [
      "c:\\users\\wuliwyh\\appdata\\local\\programs\\python\\python37\\lib\\site-packages\\ipykernel_launcher.py:2: DeprecationWarning: executable_path has been deprecated, please pass in a Service object\n",
      "  \n"
     ]
    },
    {
     "name": "stdin",
     "output_type": "stream",
     "text": [
      "please input your title: awstream\n"
     ]
    },
    {
     "name": "stdout",
     "output_type": "stream",
     "text": [
      "https://www.connectedpapers.com/search?q=awstream\n"
     ]
    },
    {
     "name": "stderr",
     "output_type": "stream",
     "text": [
      "c:\\users\\wuliwyh\\appdata\\local\\programs\\python\\python37\\lib\\site-packages\\ipykernel_launcher.py:11: DeprecationWarning: find_element_by_* commands are deprecated. Please use find_element() instead\n",
      "  # This is added back by InteractiveShellApp.init_path()\n"
     ]
    }
   ],
   "source": [
    "# get the web\n",
    "driver = webdriver.Chrome('./web_driver/chromedriver.exe')\n",
    "# paper title you want to search\n",
    "title = input('please input your title:')\n",
    "url = 'https://www.connectedpapers.com/search?q={}'.format(title)\n",
    "print(url)\n",
    "url = url.replace(' ', '%20')\n",
    "# open the page\n",
    "driver.get(url)\n",
    "# choose the first component as result\n",
    "driver.find_element_by_xpath('//*[@id=\"open-in-container\"]/a[1]').click()"
   ]
  },
  {
   "cell_type": "code",
   "execution_count": 3,
   "metadata": {},
   "outputs": [
    {
     "name": "stdout",
     "output_type": "stream",
     "text": [
      "https://www.connectedpapers.com/main/1db47f3287a3eb02cd22dc764e1311faf4d26dc9/AWStream%3A-adaptive-wide%20area-streaming-analytics/graph\n"
     ]
    }
   ],
   "source": [
    "# switch to another window\n",
    "handles = driver.window_handles\n",
    "driver.switch_to.window(handles[1])\n",
    "print(driver.current_url)"
   ]
  },
  {
   "cell_type": "code",
   "execution_count": 4,
   "metadata": {},
   "outputs": [
    {
     "name": "stderr",
     "output_type": "stream",
     "text": [
      "c:\\users\\wuliwyh\\appdata\\local\\programs\\python\\python37\\lib\\site-packages\\ipykernel_launcher.py:2: DeprecationWarning: find_element_by_* commands are deprecated. Please use find_element() instead\n",
      "  \n"
     ]
    }
   ],
   "source": [
    "# switch to prior works page\n",
    "driver.find_element_by_xpath('//*[@id=\"desktop-app\"]/div[2]/div[1]/div/button[1]').click()"
   ]
  },
  {
   "cell_type": "code",
   "execution_count": 5,
   "metadata": {},
   "outputs": [
    {
     "name": "stderr",
     "output_type": "stream",
     "text": [
      "c:\\users\\wuliwyh\\appdata\\local\\programs\\python\\python37\\lib\\site-packages\\ipykernel_launcher.py:2: DeprecationWarning: find_element_by_* commands are deprecated. Please use find_element() instead\n",
      "  \n"
     ]
    }
   ],
   "source": [
    "# download prior works\n",
    "driver.find_element_by_xpath('//*[@id=\"desktop-app\"]/div[2]/div[3]/div[2]/div/div/div/div/span').click()"
   ]
  },
  {
   "cell_type": "code",
   "execution_count": 6,
   "metadata": {},
   "outputs": [
    {
     "name": "stderr",
     "output_type": "stream",
     "text": [
      "c:\\users\\wuliwyh\\appdata\\local\\programs\\python\\python37\\lib\\site-packages\\ipykernel_launcher.py:2: DeprecationWarning: find_element_by_* commands are deprecated. Please use find_element() instead\n",
      "  \n"
     ]
    }
   ],
   "source": [
    "# switch to derivative works\n",
    "driver.find_element_by_xpath('//*[@id=\"desktop-app\"]/div[2]/div[1]/div/button[2]').click()"
   ]
  },
  {
   "cell_type": "code",
   "execution_count": 7,
   "metadata": {},
   "outputs": [
    {
     "name": "stderr",
     "output_type": "stream",
     "text": [
      "c:\\users\\wuliwyh\\appdata\\local\\programs\\python\\python37\\lib\\site-packages\\ipykernel_launcher.py:2: DeprecationWarning: find_element_by_* commands are deprecated. Please use find_element() instead\n",
      "  \n"
     ]
    }
   ],
   "source": [
    "# download derivative works\n",
    "driver.find_element_by_xpath('//*[@id=\"desktop-app\"]/div[2]/div[3]/div[2]/div/div/div/div/span').click()"
   ]
  },
  {
   "cell_type": "code",
   "execution_count": null,
   "metadata": {},
   "outputs": [],
   "source": []
  }
 ],
 "metadata": {
  "interpreter": {
   "hash": "d5eabbe0a4a4ee9935b604258e175ce145455b834284894328b8b003cc498446"
  },
  "kernelspec": {
   "display_name": "Python 3 (ipykernel)",
   "language": "python",
   "name": "python3"
  },
  "language_info": {
   "codemirror_mode": {
    "name": "ipython",
    "version": 3
   },
   "file_extension": ".py",
   "mimetype": "text/x-python",
   "name": "python",
   "nbconvert_exporter": "python",
   "pygments_lexer": "ipython3",
   "version": "3.7.6"
  }
 },
 "nbformat": 4,
 "nbformat_minor": 4
}
