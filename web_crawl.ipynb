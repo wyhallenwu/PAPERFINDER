{
 "cells": [
  {
   "cell_type": "code",
   "execution_count": 38,
   "metadata": {},
   "outputs": [],
   "source": [
    "# needed packages \n",
    "from time import sleep\n",
    "\n",
    "from selenium import webdriver\n",
    "from selenium.webdriver.common.by import By\n",
    "from selenium.webdriver.chrome.options import Options\n",
    "from selenium.webdriver.common.keys import Keys"
   ]
  },
  {
   "cell_type": "code",
   "execution_count": 50,
   "metadata": {},
   "outputs": [
    {
     "name": "stderr",
     "output_type": "stream",
     "text": [
      "C:\\Users\\wuliwyh\\AppData\\Local\\Programs\\Python\\Python37\\lib\\site-packages\\ipykernel_launcher.py:2: DeprecationWarning: executable_path has been deprecated, please pass in a Service object\n",
      "  \n",
      "C:\\Users\\wuliwyh\\AppData\\Local\\Programs\\Python\\Python37\\lib\\site-packages\\ipykernel_launcher.py:9: DeprecationWarning: executable_path has been deprecated, please pass in a Service object\n",
      "  if __name__ == '__main__':\n",
      "C:\\Users\\wuliwyh\\AppData\\Local\\Programs\\Python\\Python37\\lib\\site-packages\\ipykernel_launcher.py:9: DeprecationWarning: use options instead of chrome_options\n",
      "  if __name__ == '__main__':\n"
     ]
    },
    {
     "name": "stdout",
     "output_type": "stream",
     "text": [
      "your url is: https://paperswithcode.com\n"
     ]
    }
   ],
   "source": [
    "# get the web\n",
    "driver = webdriver.Chrome('./web_driver/chromedriver.exe')\n",
    "# paper title you want to search\n",
    "option = Options()\n",
    "title = 'Deep Residual Learning for Image Recognition'\n",
    "# prefs = {'profile.default_content_settings.popups': 0, 'download.default_directory': path}\n",
    "# option.add_experimental_option('prefs', prefs)\n",
    "# get the web\n",
    "driver = webdriver.Chrome(executable_path='./web_driver/chromedriver.exe', chrome_options=option)\n",
    "# paper title you want to search\n",
    "url = 'https://paperswithcode.com'\n",
    "print('your url is: {}'.format(url))\n",
    "# open the page\n",
    "driver.get(url)"
   ]
  },
  {
   "cell_type": "code",
   "execution_count": 51,
   "metadata": {},
   "outputs": [],
   "source": [
    "input_box = driver.find_element(By.XPATH, '//*[@id=\"id_global_search_input\"]')\n",
    "input_box.send_keys(title)\n",
    "driver.find_element(By.XPATH, '//*[@id=\"id_global_search_form\"]/button/span').click()\n",
    "driver.find_element(By.XPATH, '/html/body/div[3]/div[2]/div/div[2]/div/div[1]/h1/a').click()"
   ]
  }
 ],
 "metadata": {
  "interpreter": {
   "hash": "d5eabbe0a4a4ee9935b604258e175ce145455b834284894328b8b003cc498446"
  },
  "kernelspec": {
   "display_name": "Python 3 (ipykernel)",
   "language": "python",
   "name": "python3"
  },
  "language_info": {
   "codemirror_mode": {
    "name": "ipython",
    "version": 3
   },
   "file_extension": ".py",
   "mimetype": "text/x-python",
   "name": "python",
   "nbconvert_exporter": "python",
   "pygments_lexer": "ipython3",
   "version": "3.7.6"
  }
 },
 "nbformat": 4,
 "nbformat_minor": 4
}
