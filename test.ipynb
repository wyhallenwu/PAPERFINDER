{
 "cells": [
  {
   "cell_type": "code",
   "execution_count": 62,
   "id": "387c020d-314e-472d-9f8a-a5d8c4ef31b1",
   "metadata": {},
   "outputs": [],
   "source": [
    "import numpy as np\n",
    "import pandas as pd\n",
    "import matplotlib.pyplot as plt\n",
    "import cv2"
   ]
  },
  {
   "cell_type": "code",
   "execution_count": 63,
   "id": "e366a74e",
   "metadata": {},
   "outputs": [],
   "source": [
    "def custom_blur_demo(image):\n",
    "    kernel = np.array([[0, -1, 0], [-1, 5, -1], [0, -1, 0]], np.float32) #锐化\n",
    "    dst = cv.filter2D(image, -1, kernel=kernel)\n",
    "    return dst"
   ]
  },
  {
   "cell_type": "code",
   "execution_count": 66,
   "id": "85b26d0b",
   "metadata": {},
   "outputs": [
    {
     "name": "stdout",
     "output_type": "stream",
     "text": [
      "h:[[ 0  0  0 ...  0  0  0]\n",
      " [ 0  0  0 ...  0  0  0]\n",
      " [ 0  0  0 ...  0  0  0]\n",
      " ...\n",
      " [67 67 67 ... 51 49 60]\n",
      " [60 60 60 ... 46 48 60]\n",
      " [28 28 28 ... 40 40 47]], s:[[  0   0   0 ...   0   0   0]\n",
      " [  0   0   0 ...   0   0   0]\n",
      " [  0   0   0 ...   0   0   0]\n",
      " ...\n",
      " [164 100 115 ... 188 255 255]\n",
      " [ 85  67  75 ... 255 255 255]\n",
      " [105 115  96 ... 142 153 255]], v:[[255 255 255 ... 255 255 255]\n",
      " [255 255 255 ... 255 255 255]\n",
      " [255 255 255 ... 255 255 255]\n",
      " ...\n",
      " [ 14  23  20 ...  23  27  11]\n",
      " [ 15  19  17 ...  29  24  11]\n",
      " [ 34  31  37 ...  43  35  23]]\n",
      "(586, 586, 3)\n"
     ]
    }
   ],
   "source": [
    "test_img = cv2.imread('dataset/test.png')\n",
    "test_img = custom_blur_demo(test_img)\n",
    "hsv = cv2.cvtColor(test_img, cv2.COLOR_BGR2HSV)\n",
    "lower_blue = np.array([100, 50, 50])\n",
    "upper_blue = np.array([110, 255, 255])\n",
    "mask = cv2.inRange(hsv, lower_blue, upper_blue)\n",
    "H, S, V = cv2.split(hsv)\n",
    "print(\"h:{}, s:{}, v:{}\".format(H, S, V))\n",
    "res = cv2.bitwise_and(test_img, test_img, mask=mask)\n",
    "print(test_img.shape)\n",
    "cv2.imshow('original', test_img)\n",
    "cv2.imshow('extract', res)\n",
    "cv2.waitKey(0)\n",
    "cv2.destroyAllWindows()"
   ]
  },
  {
   "cell_type": "code",
   "execution_count": null,
   "id": "61c37fda",
   "metadata": {},
   "outputs": [],
   "source": [
    "test_img = cv2.imread('dataset/test.png')\n"
   ]
  }
 ],
 "metadata": {
  "kernelspec": {
   "display_name": "Python 3 (ipykernel)",
   "language": "python",
   "name": "python3"
  },
  "language_info": {
   "codemirror_mode": {
    "name": "ipython",
    "version": 3
   },
   "file_extension": ".py",
   "mimetype": "text/x-python",
   "name": "python",
   "nbconvert_exporter": "python",
   "pygments_lexer": "ipython3",
   "version": "3.7.6"
  }
 },
 "nbformat": 4,
 "nbformat_minor": 5
}
