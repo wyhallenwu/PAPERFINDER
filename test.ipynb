{
 "cells": [
  {
   "cell_type": "code",
   "execution_count": 62,
   "id": "387c020d-314e-472d-9f8a-a5d8c4ef31b1",
   "metadata": {},
   "outputs": [],
   "source": [
    "import numpy as np\n",
    "import pandas as pd\n",
    "import matplotlib.pyplot as plt\n",
    "import cv2"
   ]
  },
  {
   "cell_type": "code",
   "execution_count": 63,
   "id": "e366a74e",
   "metadata": {},
   "outputs": [],
   "source": [
    "def custom_blur_demo(image):\n",
    "    kernel = np.array([[0, -1, 0], [-1, 5, -1], [0, -1, 0]], np.float32) #锐化\n",
    "    dst = cv.filter2D(image, -1, kernel=kernel)\n",
    "    return dst"
   ]
  },
  {
   "cell_type": "code",
   "execution_count": 90,
   "id": "85b26d0b",
   "metadata": {},
   "outputs": [
    {
     "name": "stdout",
     "output_type": "stream",
     "text": [
      "(586, 586, 3)\n"
     ]
    }
   ],
   "source": [
    "# load image\n",
    "test_img = cv2.imread('dataset/test.png')\n",
    "test_img = custom_blur_demo(test_img)\n",
    "\n",
    "# rgb to hsv\n",
    "hsv = cv2.cvtColor(test_img, cv2.COLOR_BGR2HSV)\n",
    "lower_blue = np.array([100, 50, 50])\n",
    "upper_blue = np.array([110, 255, 255])\n",
    "\n",
    "# extract blue color\n",
    "blue_mask = cv2.inRange(hsv, lower_blue, upper_blue)\n",
    "\n",
    "# cover the original image\n",
    "res = cv2.bitwise_and(test_img, test_img, mask=blue_mask)\n",
    "\n",
    "# convert the covered image's birght part to red\n",
    "# TODO: it is still hard to distinguish wards in the picture\n",
    "print(res.shape)\n",
    "height = res.shape[0]\n",
    "width = res.shape[1]\n",
    "for row in range(height):\n",
    "    for col in range(width):\n",
    "        if res[row][col][0] != 0:\n",
    "            res[row][col] = [0, 0, 255]\n",
    "\n",
    "# show image\n",
    "cv2.imshow('original', test_img)\n",
    "cv2.imshow('extract', res)\n",
    "cv2.waitKey(0)\n",
    "cv2.destroyAllWindows()"
   ]
  }
 ],
 "metadata": {
  "kernelspec": {
   "display_name": "Python 3 (ipykernel)",
   "language": "python",
   "name": "python3"
  },
  "language_info": {
   "codemirror_mode": {
    "name": "ipython",
    "version": 3
   },
   "file_extension": ".py",
   "mimetype": "text/x-python",
   "name": "python",
   "nbconvert_exporter": "python",
   "pygments_lexer": "ipython3",
   "version": "3.7.6"
  }
 },
 "nbformat": 4,
 "nbformat_minor": 5
}
